{
 "cells": [
  {
   "cell_type": "markdown",
   "id": "7dc3614a-fdd3-4a7f-85c1-ab331138b799",
   "metadata": {},
   "source": [
    "## Data Structures\n",
    "This notebook contains the class definitions for the data structures to be used by for the Mathdoku puzzle solver.  \n",
    "\n",
    "**Do not make any modifications to this notebook.**"
   ]
  },
  {
   "cell_type": "markdown",
   "id": "613b0e8d-31a5-44c1-9ffa-06191aeddde7",
   "metadata": {},
   "source": [
    "### Cage\n",
    "Use this class to represent Cage objects."
   ]
  },
  {
   "cell_type": "code",
   "execution_count": null,
   "id": "0497b299-4494-4029-b012-c2505c6e58a5",
   "metadata": {},
   "outputs": [],
   "source": [
    "class Cage:\n",
    "    \"\"\"\n",
    "    Represent a cage in the Mathdoku puzzle.\n",
    "    Arguments:\n",
    "    operation (string):  the arithmetic operation to be applied to \n",
    "        the squares in this cage (\"=\", \"+\", \"-\", \"*\", \"/\")\n",
    "    target (integer) : the target value\n",
    "    squares (set): the set of squares in this cage.  Each square\n",
    "        is represented as a (row, column) tuple.\n",
    "    Attributes:\n",
    "    operation (string):  the arithmetic operation to be applied to \n",
    "        the squares in this cage (\"=\", \"+\", \"-\", \"*\", \"/\")\n",
    "    target (integer) : the target value\n",
    "    squares (set): the set of squares in this cage.  Each square\n",
    "        is represented as a (row, column) tuple.\n",
    "    \"\"\"\n",
    "\n",
    "    def __init__(self, operation, target, squares):\n",
    "        self.target = target\n",
    "        self.operation = operation\n",
    "        self.squares = squares  # set of (row, col) tuples\n"
   ]
  },
  {
   "cell_type": "markdown",
   "id": "66e8b7d1-64ec-4999-8b3f-2d022a637221",
   "metadata": {},
   "source": [
    "### Puzzle\n",
    "Use this class to represent Mathdoku puzzles."
   ]
  },
  {
   "cell_type": "code",
   "execution_count": null,
   "id": "eb2c6e6a-ae6f-448a-bbe7-297c94850a48",
   "metadata": {},
   "outputs": [],
   "source": [
    "class Puzzle:\n",
    "    \"\"\"\n",
    "    Represent a Mathdoku puzzle.\n",
    "    Arguments:\n",
    "    size (integer):  the size of the puzzle\n",
    "    cages (tuple of Cage objects) : a tuple containing all the\n",
    "        cages in the puzzle\n",
    "    Attributes:\n",
    "    size (integer):  the size of the puzzle\n",
    "    board (dictionary): a mapping from each square in the puzzle \n",
    "        to the Cage object that contains it/ \n",
    "    \"\"\"\n",
    "\n",
    "    def __init__(self, size, cages):\n",
    "        self.size = size\n",
    "        self.board = {}\n",
    "        for row in range(size):\n",
    "            for column in range(size):\n",
    "                found = False\n",
    "                for each_cage in cages:\n",
    "                    if (row, column) in each_cage.squares:\n",
    "                        self.board[row, column] = each_cage\n",
    "                        found = True\n",
    "                if not found:\n",
    "                    raise Exception(f\"Invalid Mathdoku Puzzle: square {(row, column)} does not belong to any cage\")\n",
    "    "
   ]
  }
 ],
 "metadata": {
  "kernelspec": {
   "display_name": "Python 3 (ipykernel)",
   "language": "python",
   "name": "python3"
  },
  "language_info": {
   "codemirror_mode": {
    "name": "ipython",
    "version": 3
   },
   "file_extension": ".py",
   "mimetype": "text/x-python",
   "name": "python",
   "nbconvert_exporter": "python",
   "pygments_lexer": "ipython3",
   "version": "3.11.13"
  },
  "widgets": {
   "application/vnd.jupyter.widget-state+json": {
    "state": {},
    "version_major": 2,
    "version_minor": 0
   }
  }
 },
 "nbformat": 4,
 "nbformat_minor": 5
}
