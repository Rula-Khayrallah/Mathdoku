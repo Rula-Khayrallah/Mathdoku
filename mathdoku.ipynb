{
 "cells": [
  {
   "attachments": {},
   "cell_type": "markdown",
   "id": "56afd13f-c0b8-4238-b7b2-c1de06776190",
   "metadata": {},
   "source": [
    "# Mathdoku Solver\n",
    "This week our agent will be solving Mathdoku puzzles.\n",
    "\n",
    "Your task is to define the Mathdoku puzzle as a CSP problem then use the CSP algorithms that we covered in class to solve it.  Theses algorithms have been implemented for you as methods in the CSP class in the [csp.ipynb](./csp.ipynb) notebook.   \n",
    "In this notebook (mathdoku), you'll implement the following functions:\n",
    "1.  build_csp (and its 3 helper functions listed below)\n",
    "2.  btrack\n",
    "3.  btrackac3\n",
    "4.  btrackmrvac3\n",
    "\n",
    "\n",
    "Feel free to add some additional helper functions to make your implementation dry.\n",
    "\n",
    "This is the only notebook you need to submit when you complete your assignment.\n",
    "\n",
    "Let's first import all we need before we get started. Make sure you run the code cell below everytime you start working on this notebook.\n"
   ]
  },
  {
   "cell_type": "code",
   "execution_count": null,
   "id": "5aa28eda-b632-4a36-a53d-1456f366192b",
   "metadata": {},
   "outputs": [],
   "source": [
    "%run csp.ipynb\n",
    "from data_structures import *\n",
    "import math"
   ]
  },
  {
   "cell_type": "markdown",
   "id": "e87ff987",
   "metadata": {},
   "source": [
    "## Step 1: Create the CSP Object\n",
    "In this step you will implement the function *build_csp* to create a CSP object representing the puzzle - with domains, neighbors and constraints.  \n",
    "To do that, you will use the helper functions listed below.\n",
    "\n",
    "Make sure you take a look at the [csp.ipynb](./csp.ipynb) notebook, to figure out what you need to create the CSP object.\n",
    "You will also need to check out the  [data_structures.ipynb](./data_structures.ipynb) notebook, to see how to represent a Mathdoku puzzle."
   ]
  },
  {
   "cell_type": "markdown",
   "id": "50e150f8",
   "metadata": {},
   "source": [
    "### Helper Functions"
   ]
  },
  {
   "cell_type": "code",
   "execution_count": null,
   "id": "1f3164ac-8587-497c-8c2e-17e7bf8e7edc",
   "metadata": {},
   "outputs": [],
   "source": [
    "def create_neighbors(puzzle):\n",
    "    \"\"\"\n",
    "    Create the neighbors dictionary for the given puzzle.\n",
    "    :param puzzle:  (Puzzle object) the puzzle to be solved\n",
    "    :return: (dictionary) a dictionary representing constraints.\n",
    "        The dictionary keys are variables/squares represented as\n",
    "        (row, column) tuples and the values are sets containing\n",
    "        all the variables that are connected to the key.\n",
    "        (Variables are connected if they both appear in some constraint.)\n",
    "    \"\"\"\n",
    "    # Enter your code here and remove the pass statement below\n",
    "    pass  \n",
    "\n",
    "def initialize_domains(puzzle):\n",
    "    \"\"\"\n",
    "    Initialize the domains dictionary for the given puzzle.\n",
    "    The initial domain of each variable is {1, 2, ..., n} \n",
    "    where n is the size of the given puzzle.\n",
    "    :param puzzle:  (Puzzle object) the puzzle to be solved    \n",
    "    :return: a dictionary representing variables and their domains.\n",
    "        The dictionary keys are variables/squares represented as\n",
    "        (row, column) tuples and the values are sets\n",
    "        representing their domains.\n",
    "    \"\"\"\n",
    "    # Enter your code here and remove the pass statement below\n",
    "    pass  \n",
    "\n",
    "def apply_node_consistency(domains, puzzle):\n",
    "    \"\"\"\n",
    "    Update domains dictionary for the given puzzle by applying node \n",
    "    consistency.  To do that, apply the unary constrains in the puzzle.\n",
    "    :param domains: a dictionary representing variables and their domains.\n",
    "        The dictionary keys are variables/squares represented as\n",
    "        (row, column) tuples and the values are sets\n",
    "        representing their domains.\n",
    "    :param puzzle:  (Puzzle object) the puzzle to be solved    \n",
    "    :return: updated domains dictionary.\n",
    "    \"\"\"\n",
    "    # Enter your code here and remove the pass statement below\n",
    "    pass  \n"
   ]
  },
  {
   "cell_type": "code",
   "execution_count": null,
   "id": "21827942-980e-48e3-bee7-34f97371cc3e",
   "metadata": {},
   "outputs": [],
   "source": [
    "def constraint(var, value, assignment, puzzle):\n",
    "    \"\"\"\n",
    "    Check whether the value is consistent with the assignment.\n",
    "    :param var:  (string) the variable name\n",
    "    :param value: value from the domain of the variable\n",
    "    :param assignment: dictionary representing current assignment.\n",
    "    :return: (boolean) True if assignment is consistent, False\n",
    "        otherwise\n",
    "    \"\"\"\n",
    "    # Enter your code here and remove the pass statement below\n",
    "    # Make sure you check all the constraints:\n",
    "    # row, column, and cage constrains for all possible operations\n",
    "    \n",
    "    pass  \n"
   ]
  },
  {
   "cell_type": "code",
   "execution_count": null,
   "id": "8374f10d",
   "metadata": {},
   "outputs": [],
   "source": [
    "def build_csp(puzzle):\n",
    "    \"\"\"\n",
    "    Create a CSP object representing the puzzle.\n",
    "    :param puzzle: (Puzzle object) representing the puzzle =\n",
    "    :return: CSP object\n",
    "    \"\"\"\n",
    "    # Enter your code here and remove the pass statement below\n",
    "    pass  \n",
    "    # Invoke the helper functions to:\n",
    "    # create the neighbors dictionary\n",
    "    # create the initial domains dictionary\n",
    "    # apply node consistency and update the domains\n",
    "    # define the constraint function\n",
    "    # use all the above to create the CSP object"
   ]
  },
  {
   "cell_type": "markdown",
   "id": "edbd262c",
   "metadata": {
    "lines_to_next_cell": 2
   },
   "source": [
    "## Step 2:  Backtracking Search\n",
    "Implement the function btrack.\n",
    "\n",
    "This function takes a Puzzle object as an argument.\n",
    "\n",
    "The function should call build_csp to create the CSP object then invoke the basic backtracking search algorithm on that CSP object.\n",
    "\n",
    "The function returns a tuple: the solution (a dictionary representing a complete and valid assignment), and the CSP object.\n"
   ]
  },
  {
   "cell_type": "code",
   "execution_count": null,
   "id": "f96a05c1",
   "metadata": {},
   "outputs": [],
   "source": [
    "def btrack(puzzle):\n",
    "    \"\"\"\n",
    "    Solve the given puzzle with basic backtracking search\n",
    "    :param puzzle: A Puzzle object\n",
    "    :return: a tuple consisting of a solution (dictionary) and the\n",
    "    CSP bject.\n",
    "    \"\"\"\n",
    "    # Enter your code here and remove the pass statement below\n",
    "    pass"
   ]
  },
  {
   "attachments": {
    "29aa240c-9764-450a-94f2-a023f2f5718b.png": {
     "image/png": "[encoded data removed]"
    }
   },
   "cell_type": "markdown",
   "id": "d655c0b2",
   "metadata": {},
   "source": [
    "You can now test your function with the very easy puzzle below:\n",
    "\n",
    "![image.png](attachment:29aa240c-9764-450a-94f2-a023f2f5718b.png)"
   ]
  },
  {
   "cell_type": "code",
   "execution_count": null,
   "id": "94654a63-96ed-4eaf-92b4-94ccc935551d",
   "metadata": {},
   "outputs": [],
   "source": [
    "veryeasy = Puzzle(4, \n",
    "                  (Cage('+', 9,  {(0, 0), (0, 1), (1, 1), (0, 2)}),\n",
    "                   Cage('=', 4, {(0, 3)}),\n",
    "                   Cage('-', 2,  {(1, 0), (2, 0)}),\n",
    "                   Cage('/', 2, {(3, 0), (3, 1)}),\n",
    "                   Cage('+', 12, {(1, 2), (2, 2), (3, 2), (2, 1)}),\n",
    "                   Cage('*', 6, {(1, 3), (2, 3), (3, 3)})))\n",
    "solve(\"btrack\", veryeasy)\n"
   ]
  },
  {
   "attachments": {
    "1cb12240-dd77-409d-83e1-7ca663d79059.png": {
     "image/png": "[encoded data removed]"
    }
   },
   "cell_type": "markdown",
   "id": "1a5d4674",
   "metadata": {},
   "source": [
    "Make sure that the solution is valid and does not violate any constraints.\n",
    "\n",
    "You will see that for this very easy puzzle, the solution is found almost instantaneously.  \n",
    "    My solution expands 100 nodes.\n",
    "\n",
    "You may now try to solve the following easy puzzle.  \n",
    "    \n",
    "![image.png](attachment:1cb12240-dd77-409d-83e1-7ca663d79059.png)"
   ]
  },
  {
   "cell_type": "code",
   "execution_count": null,
   "id": "2a1b9620-fdeb-46fa-84c4-8e43455bcbf0",
   "metadata": {},
   "outputs": [],
   "source": [
    "easy = Puzzle(5,\n",
    "              (Cage('*', 20, {(0, 0), (0, 1), (0, 2)}),\n",
    "               Cage('*', 30, {(0, 3), (0, 4), (1, 3)}),\n",
    "               Cage('+', 6, {(1, 0), (1, 1), (1, 2)}),\n",
    "               Cage('+', 8, {(1, 4), (2, 3), (2, 4)}), \n",
    "               Cage('*', 60, {(2, 0), (2, 1), (3, 0)}), \n",
    "               Cage('=', 2, {(2, 2)}), \n",
    "               Cage('*', 5, {(3, 1), (3, 2)}),\n",
    "               Cage('+', 8, {(3, 3), (4, 3), (4, 2)}), \n",
    "               Cage('-', 3, {(3, 4), (4, 4)}), \n",
    "               Cage('/', 2, {(4, 0), (4, 1)})))\n",
    "solve(\"btrack\", easy)"
   ]
  },
  {
   "cell_type": "markdown",
   "id": "92c0799d-0d05-4e8d-83ea-52b8d280c68b",
   "metadata": {},
   "source": [
    "My solution expands 27,068 nodes and is found in less than 1 second.  Make sure your solution expands fewer than 40,000 nodes."
   ]
  },
  {
   "cell_type": "markdown",
   "id": "009afd12-0b20-457f-a75d-030624baa982",
   "metadata": {},
   "source": [
    "Can find a solution for the medium puzzle below in a reasonable time with this implementation?\n",
    "\n",
    "**Note: You can interrupt the kernel to stop processing after a couple of minutes.**"
   ]
  },
  {
   "attachments": {
    "64759488-565d-428d-b31d-c6e62c4d7629.png": {
     "image/png": "[encoded data removed]"
    }
   },
   "cell_type": "markdown",
   "id": "b5a5fe11-5af2-4be4-8d2c-7165d436401d",
   "metadata": {},
   "source": [
    "![image.png](attachment:64759488-565d-428d-b31d-c6e62c4d7629.png)\n"
   ]
  },
  {
   "cell_type": "code",
   "execution_count": null,
   "id": "5bfad31f-8dbe-4bd5-8f1b-c79c3d6434de",
   "metadata": {},
   "outputs": [],
   "source": [
    "medium = Puzzle(6, \n",
    "               (Cage('*', 60,  {(0, 0), (0, 1), (1, 0), (0, 2)}),\n",
    "                Cage('+', 3,  {(0, 3), (0, 4)}),\n",
    "                Cage('*', 180, {(0, 5), (1, 5), (2, 5), (2, 4)}),\n",
    "                Cage('+', 17, {(1, 1), (2, 1), (3, 1), (2, 0)}),\n",
    "                Cage( '+', 13, {(1, 2), (1, 3), (1, 4), (2, 2)}),\n",
    "                Cage('+', 17, {(2, 3), (3, 3), (4, 3), (3, 4)}), \n",
    "                Cage('=', 6, {(3, 0)}),\n",
    "                Cage('-', 3, {(3, 2), (4, 2)}),\n",
    "                Cage('*', 60, {(3, 5), (4, 5), (5, 5), (4, 4)}),\n",
    "                Cage('+', 11, {(4, 0), (5, 0), (5, 1), (5, 2)}),\n",
    "                Cage('=', 1, {(4, 1)}), \n",
    "                Cage('/', 6, {(5, 3), (5, 4)}) ))"
   ]
  },
  {
   "cell_type": "code",
   "execution_count": null,
   "id": "a252f3d8-3e42-43a8-884c-74085e7de689",
   "metadata": {},
   "outputs": [],
   "source": [
    "solve(\"btrack\", medium)"
   ]
  },
  {
   "cell_type": "markdown",
   "id": "c5ac7d67-4452-45af-9685-66cb97928ea2",
   "metadata": {},
   "source": [
    "## Step 3:  Backtracking Search with AC-3\n",
    "Implement the function _btrackac3_.\n",
    "\n",
    "This function takes a Puzzle object as an argument.\n",
    "\n",
    "The function should still call _build_csp_ to create the CSP object.\n",
    "\n",
    "It will run the AC-3 algorithm as a preprocessing step on the CSP object before invoking the basic backtracking search algorithm .\n",
    "\n",
    "The function returns a tuple: the solution (a dictionary representing a complete and valid assignment), and the CSP object."
   ]
  },
  {
   "cell_type": "code",
   "execution_count": null,
   "id": "cee5085e-8b2f-4829-a351-195273d9ffed",
   "metadata": {},
   "outputs": [],
   "source": [
    "def btrackac3(puzzle):\n",
    "    \"\"\"\n",
    "    Solve the given puzzle with backtracking search and AC-3 as\n",
    "    a preprocessing step.\n",
    "    :param puzzle: A Puzzle object\n",
    "    :return: a tuple consisting of a solution (dictionary) and the\n",
    "    CSP object.\n",
    "    \"\"\"\n",
    "    # Enter your code here and remove the pass statement below\n",
    "    pass"
   ]
  },
  {
   "cell_type": "markdown",
   "id": "e0d2650a-0d25-4c8e-b2ba-f5144f7b01ce",
   "metadata": {},
   "source": [
    "With this implementation you should be able to find a solution for the puzzles veryeasy and easy with fewer nodes expanded. The AC-3 algorithm  effectively reduces the domain of some variables so there is less backtracking in the search."
   ]
  },
  {
   "cell_type": "code",
   "execution_count": null,
   "id": "d4fb3cf5-b952-46fe-83de-6280fba34846",
   "metadata": {},
   "outputs": [],
   "source": [
    "solve(\"btrackac3\", veryeasy)"
   ]
  },
  {
   "cell_type": "code",
   "execution_count": null,
   "id": "116c5e08-67a4-4571-b1cf-3d8455dd3c37",
   "metadata": {
    "scrolled": true
   },
   "outputs": [],
   "source": [
    "solve(\"btrackac3\", easy)"
   ]
  },
  {
   "cell_type": "markdown",
   "id": "386a263b-c9c2-4369-8f14-e3734d30f9a0",
   "metadata": {},
   "source": [
    "If you are patient and willing to wait 2-3 minutes, you can now find the solution to the medium puzzle:"
   ]
  },
  {
   "cell_type": "code",
   "execution_count": null,
   "id": "f715b398-83c0-4e72-8196-fba840213d14",
   "metadata": {},
   "outputs": [],
   "source": [
    "solve(\"btrackac3\", medium)"
   ]
  },
  {
   "cell_type": "markdown",
   "id": "cfba886c-5450-4459-b198-1c0409f85546",
   "metadata": {},
   "source": [
    "However the complexity of the hard puzzle below is still out of reach.  \n",
    "**Remember: You can interrupt the kernel to stop processing after 2-3 minutes.**"
   ]
  },
  {
   "attachments": {
    "98fdf4b7-e3a8-45d2-a52f-1017e9491b61.png": {
     "image/png": "[encoded data removed]"
    }
   },
   "cell_type": "markdown",
   "id": "8eb834d2-14ff-4851-be6d-e04062f9a339",
   "metadata": {},
   "source": [
    "![image.png](attachment:98fdf4b7-e3a8-45d2-a52f-1017e9491b61.png)"
   ]
  },
  {
   "cell_type": "code",
   "execution_count": null,
   "id": "8b0481a8-aecc-4e16-99a5-4bc5bda0448f",
   "metadata": {},
   "outputs": [],
   "source": [
    "hard = Puzzle(9, \n",
    "              (Cage('+', 14, {(0, 0), (0, 1), (1, 0)}),\n",
    "               Cage('*', 72, {(0, 2), (0, 3), (0, 4)}),\n",
    "               Cage('*', 45, {(0, 5), (0, 6), (1, 6)}),\n",
    "               Cage('+', 17, {(0, 7), (1, 7), (2, 7)}),\n",
    "               Cage('*', 144, {(0, 8), (1, 8), (2, 8)}),\n",
    "               Cage('*', 56, {(1, 1), (1, 2), (2, 1)}),\n",
    "               Cage('+', 18, {(1, 3), (1, 4), (2, 3)}),\n",
    "               Cage('*', 8, {(1, 5), (2, 5), (2, 4)}),\n",
    "               Cage('+', 19, {(2, 0), (3, 0), (3, 1)}),\n",
    "               Cage('=', 6, {(2, 2)}),\n",
    "               Cage('=', 7, {(3, 2)}),\n",
    "               Cage('=', 4, {(4, 2)}),\n",
    "               Cage('+', 22, {(2, 6), (3, 6), (3, 5)}),\n",
    "               Cage('/', 2, {(3, 3), (3, 4)}),\n",
    "               Cage('+', 15, {(3, 7), (3, 8), (4, 7)}),\n",
    "               Cage('*', 72, {(4, 0), (4, 1), (5, 1)}),  Cage('+', 16, {(4, 3), (4, 4), (5, 4)}), Cage('+', 19, {(4, 5), (5, 5), (6, 5)}),\n",
    "               Cage('-', 1, {(4, 6), (5, 6)}), Cage('*', 2, {(4, 8), (5, 7), (5, 8)}), Cage('*', 36, {(5, 0), (6, 0), (7, 0)}), \n",
    "               Cage('*', 135, {(5, 2), (5, 3), (6, 2)}), Cage('*', 30, {(6, 1), (7, 1), (7, 2)}), Cage('+', 15, {(6, 3), (6, 4), (7, 3)}),\n",
    "               Cage('*', 96, {(6, 6), (6, 7), (7, 7)}),  Cage('*', 252, {(6, 8), (7, 8), (8, 8)}), Cage('+', 14, {(7, 4), (7, 5), (7, 6)}),\n",
    "               Cage('-', 2, {(8, 0), (8, 1)}), Cage('*', 336, {(8, 2), (8, 3), (8, 4)}), Cage('=', 1, {(8, 5)}),\n",
    "               Cage('=', 2, {(8, 6)}),\n",
    "               Cage('=', 9, {(8, 7)})))"
   ]
  },
  {
   "cell_type": "code",
   "execution_count": null,
   "id": "75ff4fa9-4c28-4690-852a-46fd5fd88c59",
   "metadata": {},
   "outputs": [],
   "source": [
    "solve(\"btrackac3\", hard)"
   ]
  },
  {
   "cell_type": "markdown",
   "id": "1569a2b1",
   "metadata": {},
   "source": [
    "## Step 4:  Backtracking Search with MRV Ordering and AC-3\n",
    "Implement the function _btrackmrvac3_.\n",
    "\n",
    "This function takes a Puzzle object as an argument.\n",
    "\n",
    "The function should still call _build_csp_ to create the CSP object.\n",
    "\n",
    "It will run the AC-3 algorithm as a preprocessing step on the CSP object before invoking the basic backtracking search with **Minimum Remaining Values** (MRV) variable ordering .\n",
    "\n",
    "The function returns a tuple: the solution (a dictionary representing a complete and valid assignment), and the CSP object."
   ]
  },
  {
   "cell_type": "code",
   "execution_count": null,
   "id": "d0ded0d8",
   "metadata": {},
   "outputs": [],
   "source": [
    "def btrackmrvac3(puzzle):\n",
    "    \"\"\"\n",
    "    Solve the given puzzle with backtracking search and MRV ordering and\n",
    "    AC-3 as a preprocessing step.\n",
    "    :param puzzle: (list of strings) representing the puzzle - one string per line\n",
    "    :return: a tuple consisting of a solution (dictionary) and the\n",
    "    CSP object.\n",
    "    \"\"\"\n",
    "    # Enter your code here and remove the pass statement below\n",
    "    pass"
   ]
  },
  {
   "cell_type": "markdown",
   "id": "e76a5a99f482b266",
   "metadata": {},
   "source": [
    "You can see now how, with this approach, our agent is able to solve all the puzzles.\n",
    "For veryeasy and easy, the solution is almost instantaneous.  The medium puzzle takes less than one second with this approach.\n",
    "We should also be able to solve the hard puzzle now in about a minute:"
   ]
  },
  {
   "cell_type": "code",
   "execution_count": null,
   "id": "85fa5028",
   "metadata": {},
   "outputs": [],
   "source": [
    "solve(\"btrackmrvac3\", veryeasy)"
   ]
  },
  {
   "cell_type": "code",
   "execution_count": null,
   "id": "91bc4559-5eec-42b4-bdd8-197046827d8f",
   "metadata": {},
   "outputs": [],
   "source": [
    "solve(\"btrackmrvac3\", easy)"
   ]
  },
  {
   "cell_type": "code",
   "execution_count": null,
   "id": "6a9b3a5d-50fd-49a5-8647-abbf621b39cb",
   "metadata": {},
   "outputs": [],
   "source": [
    "solve(\"btrackmrvac3\", medium)"
   ]
  },
  {
   "cell_type": "code",
   "execution_count": null,
   "id": "bbd337e9-8524-4a3b-94ef-de09a05fe6d7",
   "metadata": {},
   "outputs": [],
   "source": [
    "solve(\"btrackmrvac3\", hard)"
   ]
  }
 ],
 "metadata": {
  "jupytext": {
   "cell_metadata_filter": "-all",
   "notebook_metadata_filter": "-all"
  },
  "kernelspec": {
   "display_name": "Python 3 (ipykernel)",
   "language": "python",
   "name": "python3"
  },
  "language_info": {
   "codemirror_mode": {
    "name": "ipython",
    "version": 3
   },
   "file_extension": ".py",
   "mimetype": "text/x-python",
   "name": "python",
   "nbconvert_exporter": "python",
   "pygments_lexer": "ipython3",
   "version": "3.11.13"
  },
  "widgets": {
   "application/vnd.jupyter.widget-state+json": {
    "state": {},
    "version_major": 2,
    "version_minor": 0
   }
  }
 },
 "nbformat": 4,
 "nbformat_minor": 5
}
